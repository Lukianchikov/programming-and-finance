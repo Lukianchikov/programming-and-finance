{
 "cells": [
  {
   "cell_type": "code",
   "execution_count": 1,
   "metadata": {},
   "outputs": [],
   "source": [
    "import numpy as np\n",
    "from pandas_datareader import data as wb\n",
    "import matplotlib.pyplot as plt"
   ]
  },
  {
   "cell_type": "code",
   "execution_count": 2,
   "metadata": {},
   "outputs": [],
   "source": [
    "MSFT = wb.DataReader('MSFT', data_source='yahoo', start='1995-1-1')"
   ]
  },
  {
   "cell_type": "code",
   "execution_count": 3,
   "metadata": {},
   "outputs": [
    {
     "data": {
      "text/html": [
       "<div>\n",
       "<style scoped>\n",
       "    .dataframe tbody tr th:only-of-type {\n",
       "        vertical-align: middle;\n",
       "    }\n",
       "\n",
       "    .dataframe tbody tr th {\n",
       "        vertical-align: top;\n",
       "    }\n",
       "\n",
       "    .dataframe thead th {\n",
       "        text-align: right;\n",
       "    }\n",
       "</style>\n",
       "<table border=\"1\" class=\"dataframe\">\n",
       "  <thead>\n",
       "    <tr style=\"text-align: right;\">\n",
       "      <th></th>\n",
       "      <th>High</th>\n",
       "      <th>Low</th>\n",
       "      <th>Open</th>\n",
       "      <th>Close</th>\n",
       "      <th>Volume</th>\n",
       "      <th>Adj Close</th>\n",
       "    </tr>\n",
       "    <tr>\n",
       "      <th>Date</th>\n",
       "      <th></th>\n",
       "      <th></th>\n",
       "      <th></th>\n",
       "      <th></th>\n",
       "      <th></th>\n",
       "      <th></th>\n",
       "    </tr>\n",
       "  </thead>\n",
       "  <tbody>\n",
       "    <tr>\n",
       "      <th>1995-01-03</th>\n",
       "      <td>3.843750</td>\n",
       "      <td>3.757812</td>\n",
       "      <td>3.843750</td>\n",
       "      <td>3.761719</td>\n",
       "      <td>39545600.0</td>\n",
       "      <td>2.401030</td>\n",
       "    </tr>\n",
       "    <tr>\n",
       "      <th>1995-01-04</th>\n",
       "      <td>3.796875</td>\n",
       "      <td>3.718750</td>\n",
       "      <td>3.765625</td>\n",
       "      <td>3.789062</td>\n",
       "      <td>51611200.0</td>\n",
       "      <td>2.418484</td>\n",
       "    </tr>\n",
       "    <tr>\n",
       "      <th>1995-01-05</th>\n",
       "      <td>3.812500</td>\n",
       "      <td>3.710938</td>\n",
       "      <td>3.804688</td>\n",
       "      <td>3.726562</td>\n",
       "      <td>39824000.0</td>\n",
       "      <td>2.378592</td>\n",
       "    </tr>\n",
       "    <tr>\n",
       "      <th>1995-01-06</th>\n",
       "      <td>3.828125</td>\n",
       "      <td>3.734375</td>\n",
       "      <td>3.742188</td>\n",
       "      <td>3.789062</td>\n",
       "      <td>46681600.0</td>\n",
       "      <td>2.418484</td>\n",
       "    </tr>\n",
       "    <tr>\n",
       "      <th>1995-01-09</th>\n",
       "      <td>3.812500</td>\n",
       "      <td>3.734375</td>\n",
       "      <td>3.804688</td>\n",
       "      <td>3.765625</td>\n",
       "      <td>46000000.0</td>\n",
       "      <td>2.403525</td>\n",
       "    </tr>\n",
       "  </tbody>\n",
       "</table>\n",
       "</div>"
      ],
      "text/plain": [
       "                High       Low      Open     Close      Volume  Adj Close\n",
       "Date                                                                     \n",
       "1995-01-03  3.843750  3.757812  3.843750  3.761719  39545600.0   2.401030\n",
       "1995-01-04  3.796875  3.718750  3.765625  3.789062  51611200.0   2.418484\n",
       "1995-01-05  3.812500  3.710938  3.804688  3.726562  39824000.0   2.378592\n",
       "1995-01-06  3.828125  3.734375  3.742188  3.789062  46681600.0   2.418484\n",
       "1995-01-09  3.812500  3.734375  3.804688  3.765625  46000000.0   2.403525"
      ]
     },
     "execution_count": 3,
     "metadata": {},
     "output_type": "execute_result"
    }
   ],
   "source": [
    "MSFT.head()"
   ]
  },
  {
   "cell_type": "code",
   "execution_count": 4,
   "metadata": {},
   "outputs": [
    {
     "data": {
      "text/html": [
       "<div>\n",
       "<style scoped>\n",
       "    .dataframe tbody tr th:only-of-type {\n",
       "        vertical-align: middle;\n",
       "    }\n",
       "\n",
       "    .dataframe tbody tr th {\n",
       "        vertical-align: top;\n",
       "    }\n",
       "\n",
       "    .dataframe thead th {\n",
       "        text-align: right;\n",
       "    }\n",
       "</style>\n",
       "<table border=\"1\" class=\"dataframe\">\n",
       "  <thead>\n",
       "    <tr style=\"text-align: right;\">\n",
       "      <th></th>\n",
       "      <th>High</th>\n",
       "      <th>Low</th>\n",
       "      <th>Open</th>\n",
       "      <th>Close</th>\n",
       "      <th>Volume</th>\n",
       "      <th>Adj Close</th>\n",
       "    </tr>\n",
       "    <tr>\n",
       "      <th>Date</th>\n",
       "      <th></th>\n",
       "      <th></th>\n",
       "      <th></th>\n",
       "      <th></th>\n",
       "      <th></th>\n",
       "      <th></th>\n",
       "    </tr>\n",
       "  </thead>\n",
       "  <tbody>\n",
       "    <tr>\n",
       "      <th>2020-09-17</th>\n",
       "      <td>204.330002</td>\n",
       "      <td>199.960007</td>\n",
       "      <td>200.050003</td>\n",
       "      <td>202.910004</td>\n",
       "      <td>34011300.0</td>\n",
       "      <td>202.910004</td>\n",
       "    </tr>\n",
       "    <tr>\n",
       "      <th>2020-09-18</th>\n",
       "      <td>203.649994</td>\n",
       "      <td>196.250000</td>\n",
       "      <td>202.800003</td>\n",
       "      <td>200.389999</td>\n",
       "      <td>55225300.0</td>\n",
       "      <td>200.389999</td>\n",
       "    </tr>\n",
       "    <tr>\n",
       "      <th>2020-09-21</th>\n",
       "      <td>202.710007</td>\n",
       "      <td>196.380005</td>\n",
       "      <td>197.190002</td>\n",
       "      <td>202.539993</td>\n",
       "      <td>39839700.0</td>\n",
       "      <td>202.539993</td>\n",
       "    </tr>\n",
       "    <tr>\n",
       "      <th>2020-09-22</th>\n",
       "      <td>208.100006</td>\n",
       "      <td>202.080002</td>\n",
       "      <td>205.059998</td>\n",
       "      <td>207.419998</td>\n",
       "      <td>33428500.0</td>\n",
       "      <td>207.419998</td>\n",
       "    </tr>\n",
       "    <tr>\n",
       "      <th>2020-09-23</th>\n",
       "      <td>208.100006</td>\n",
       "      <td>204.339996</td>\n",
       "      <td>207.899994</td>\n",
       "      <td>204.770004</td>\n",
       "      <td>8489828.0</td>\n",
       "      <td>204.770004</td>\n",
       "    </tr>\n",
       "  </tbody>\n",
       "</table>\n",
       "</div>"
      ],
      "text/plain": [
       "                  High         Low        Open       Close      Volume  \\\n",
       "Date                                                                     \n",
       "2020-09-17  204.330002  199.960007  200.050003  202.910004  34011300.0   \n",
       "2020-09-18  203.649994  196.250000  202.800003  200.389999  55225300.0   \n",
       "2020-09-21  202.710007  196.380005  197.190002  202.539993  39839700.0   \n",
       "2020-09-22  208.100006  202.080002  205.059998  207.419998  33428500.0   \n",
       "2020-09-23  208.100006  204.339996  207.899994  204.770004   8489828.0   \n",
       "\n",
       "             Adj Close  \n",
       "Date                    \n",
       "2020-09-17  202.910004  \n",
       "2020-09-18  200.389999  \n",
       "2020-09-21  202.539993  \n",
       "2020-09-22  207.419998  \n",
       "2020-09-23  204.770004  "
      ]
     },
     "execution_count": 4,
     "metadata": {},
     "output_type": "execute_result"
    }
   ],
   "source": [
    "MSFT.tail()"
   ]
  },
  {
   "cell_type": "markdown",
   "metadata": {
    "collapsed": true
   },
   "source": [
    "## Simple Rate of Return"
   ]
  },
  {
   "cell_type": "code",
   "execution_count": 5,
   "metadata": {},
   "outputs": [
    {
     "name": "stdout",
     "output_type": "stream",
     "text": [
      "Date\n",
      "1995-01-03         NaN\n",
      "1995-01-04    0.007269\n",
      "1995-01-05   -0.016495\n",
      "1995-01-06    0.016771\n",
      "1995-01-09   -0.006186\n",
      "                ...   \n",
      "2020-09-17   -0.010436\n",
      "2020-09-18   -0.012419\n",
      "2020-09-21    0.010729\n",
      "2020-09-22    0.024094\n",
      "2020-09-23   -0.012776\n",
      "Name: simple_return, Length: 6478, dtype: float64\n"
     ]
    }
   ],
   "source": [
    "MSFT['simple_return'] = (MSFT['Adj Close'] / MSFT['Adj Close'].shift(1)) - 1\n",
    "print (MSFT['simple_return'])"
   ]
  },
  {
   "cell_type": "code",
   "execution_count": 6,
   "metadata": {},
   "outputs": [
    {
     "data": {
      "image/png": "[encoded data removed]",
      "text/plain": [
       "<Figure size 576x360 with 1 Axes>"
      ]
     },
     "metadata": {
      "needs_background": "light"
     },
     "output_type": "display_data"
    }
   ],
   "source": [
    "MSFT['simple_return'].plot(figsize=(8, 5))\n",
    "plt.show()"
   ]
  },
  {
   "cell_type": "code",
   "execution_count": 7,
   "metadata": {},
   "outputs": [
    {
     "data": {
      "text/plain": [
       "0.0008870697193266848"
      ]
     },
     "execution_count": 7,
     "metadata": {},
     "output_type": "execute_result"
    }
   ],
   "source": [
    "avg_returns_d = MSFT['simple_return'].mean()\n",
    "avg_returns_d"
   ]
  },
  {
   "cell_type": "code",
   "execution_count": 8,
   "metadata": {},
   "outputs": [
    {
     "data": {
      "text/plain": [
       "0.2217674298316712"
      ]
     },
     "execution_count": 8,
     "metadata": {},
     "output_type": "execute_result"
    }
   ],
   "source": [
    "avg_returns_a = MSFT['simple_return'].mean() * 250\n",
    "avg_returns_a"
   ]
  },
  {
   "cell_type": "code",
   "execution_count": 9,
   "metadata": {},
   "outputs": [
    {
     "name": "stdout",
     "output_type": "stream",
     "text": [
      "22.177 %\n"
     ]
    }
   ],
   "source": [
    "print (str(round(avg_returns_a, 5) * 100) + ' %')"
   ]
  },
  {
   "cell_type": "markdown",
   "metadata": {},
   "source": [
    "## Log Return"
   ]
  },
  {
   "cell_type": "code",
   "execution_count": 10,
   "metadata": {},
   "outputs": [
    {
     "data": {
      "text/html": [
       "<div>\n",
       "<style scoped>\n",
       "    .dataframe tbody tr th:only-of-type {\n",
       "        vertical-align: middle;\n",
       "    }\n",
       "\n",
       "    .dataframe tbody tr th {\n",
       "        vertical-align: top;\n",
       "    }\n",
       "\n",
       "    .dataframe thead th {\n",
       "        text-align: right;\n",
       "    }\n",
       "</style>\n",
       "<table border=\"1\" class=\"dataframe\">\n",
       "  <thead>\n",
       "    <tr style=\"text-align: right;\">\n",
       "      <th></th>\n",
       "      <th>High</th>\n",
       "      <th>Low</th>\n",
       "      <th>Open</th>\n",
       "      <th>Close</th>\n",
       "      <th>Volume</th>\n",
       "      <th>Adj Close</th>\n",
       "      <th>simple_return</th>\n",
       "    </tr>\n",
       "    <tr>\n",
       "      <th>Date</th>\n",
       "      <th></th>\n",
       "      <th></th>\n",
       "      <th></th>\n",
       "      <th></th>\n",
       "      <th></th>\n",
       "      <th></th>\n",
       "      <th></th>\n",
       "    </tr>\n",
       "  </thead>\n",
       "  <tbody>\n",
       "    <tr>\n",
       "      <th>1995-01-03</th>\n",
       "      <td>3.843750</td>\n",
       "      <td>3.757812</td>\n",
       "      <td>3.843750</td>\n",
       "      <td>3.761719</td>\n",
       "      <td>39545600.0</td>\n",
       "      <td>2.401030</td>\n",
       "      <td>NaN</td>\n",
       "    </tr>\n",
       "    <tr>\n",
       "      <th>1995-01-04</th>\n",
       "      <td>3.796875</td>\n",
       "      <td>3.718750</td>\n",
       "      <td>3.765625</td>\n",
       "      <td>3.789062</td>\n",
       "      <td>51611200.0</td>\n",
       "      <td>2.418484</td>\n",
       "      <td>0.007269</td>\n",
       "    </tr>\n",
       "    <tr>\n",
       "      <th>1995-01-05</th>\n",
       "      <td>3.812500</td>\n",
       "      <td>3.710938</td>\n",
       "      <td>3.804688</td>\n",
       "      <td>3.726562</td>\n",
       "      <td>39824000.0</td>\n",
       "      <td>2.378592</td>\n",
       "      <td>-0.016495</td>\n",
       "    </tr>\n",
       "    <tr>\n",
       "      <th>1995-01-06</th>\n",
       "      <td>3.828125</td>\n",
       "      <td>3.734375</td>\n",
       "      <td>3.742188</td>\n",
       "      <td>3.789062</td>\n",
       "      <td>46681600.0</td>\n",
       "      <td>2.418484</td>\n",
       "      <td>0.016771</td>\n",
       "    </tr>\n",
       "    <tr>\n",
       "      <th>1995-01-09</th>\n",
       "      <td>3.812500</td>\n",
       "      <td>3.734375</td>\n",
       "      <td>3.804688</td>\n",
       "      <td>3.765625</td>\n",
       "      <td>46000000.0</td>\n",
       "      <td>2.403525</td>\n",
       "      <td>-0.006186</td>\n",
       "    </tr>\n",
       "  </tbody>\n",
       "</table>\n",
       "</div>"
      ],
      "text/plain": [
       "                High       Low      Open     Close      Volume  Adj Close  \\\n",
       "Date                                                                        \n",
       "1995-01-03  3.843750  3.757812  3.843750  3.761719  39545600.0   2.401030   \n",
       "1995-01-04  3.796875  3.718750  3.765625  3.789062  51611200.0   2.418484   \n",
       "1995-01-05  3.812500  3.710938  3.804688  3.726562  39824000.0   2.378592   \n",
       "1995-01-06  3.828125  3.734375  3.742188  3.789062  46681600.0   2.418484   \n",
       "1995-01-09  3.812500  3.734375  3.804688  3.765625  46000000.0   2.403525   \n",
       "\n",
       "            simple_return  \n",
       "Date                       \n",
       "1995-01-03            NaN  \n",
       "1995-01-04       0.007269  \n",
       "1995-01-05      -0.016495  \n",
       "1995-01-06       0.016771  \n",
       "1995-01-09      -0.006186  "
      ]
     },
     "execution_count": 10,
     "metadata": {},
     "output_type": "execute_result"
    }
   ],
   "source": [
    "MSFT.head()"
   ]
  },
  {
   "cell_type": "code",
   "execution_count": 11,
   "metadata": {},
   "outputs": [
    {
     "name": "stdout",
     "output_type": "stream",
     "text": [
      "Date\n",
      "1995-01-03         NaN\n",
      "1995-01-04    0.007243\n",
      "1995-01-05   -0.016632\n",
      "1995-01-06    0.016632\n",
      "1995-01-09   -0.006205\n",
      "                ...   \n",
      "2020-09-17   -0.010491\n",
      "2020-09-18   -0.012497\n",
      "2020-09-21    0.010672\n",
      "2020-09-22    0.023808\n",
      "2020-09-23   -0.012858\n",
      "Name: log_return, Length: 6478, dtype: float64\n"
     ]
    }
   ],
   "source": [
    "MSFT['log_return'] = np.log(MSFT['Adj Close'] / MSFT['Adj Close'].shift(1))\n",
    "print (MSFT['log_return'])"
   ]
  },
  {
   "cell_type": "code",
   "execution_count": 12,
   "metadata": {},
   "outputs": [
    {
     "data": {
      "image/png": "[encoded data removed]",
      "text/plain": [
       "<Figure size 576x360 with 1 Axes>"
      ]
     },
     "metadata": {
      "needs_background": "light"
     },
     "output_type": "display_data"
    }
   ],
   "source": [
    "MSFT['log_return'].plot(figsize=(8, 5))\n",
    "plt.show()"
   ]
  },
  {
   "cell_type": "code",
   "execution_count": 13,
   "metadata": {},
   "outputs": [
    {
     "data": {
      "text/plain": [
       "0.0006864272782416292"
      ]
     },
     "execution_count": 13,
     "metadata": {},
     "output_type": "execute_result"
    }
   ],
   "source": [
    "log_return_d = MSFT['log_return'].mean()\n",
    "log_return_d"
   ]
  },
  {
   "cell_type": "code",
   "execution_count": 14,
   "metadata": {},
   "outputs": [
    {
     "data": {
      "text/plain": [
       "0.1716068195604073"
      ]
     },
     "execution_count": 14,
     "metadata": {},
     "output_type": "execute_result"
    }
   ],
   "source": [
    "log_return_a = MSFT['log_return'].mean() * 250\n",
    "log_return_a"
   ]
  },
  {
   "cell_type": "code",
   "execution_count": 15,
   "metadata": {},
   "outputs": [
    {
     "name": "stdout",
     "output_type": "stream",
     "text": [
      "17.161 %\n"
     ]
    }
   ],
   "source": [
    "print (str(round(log_return_a, 5) * 100) + ' %')"
   ]
  }
 ],
 "metadata": {
  "kernelspec": {
   "display_name": "Python 3",
   "language": "python",
   "name": "python3"
  },
  "language_info": {
   "codemirror_mode": {
    "name": "ipython",
    "version": 3
   },
   "file_extension": ".py",
   "mimetype": "text/x-python",
   "name": "python",
   "nbconvert_exporter": "python",
   "pygments_lexer": "ipython3",
   "version": "3.8.3"
  }
 },
 "nbformat": 4,
 "nbformat_minor": 2
}
